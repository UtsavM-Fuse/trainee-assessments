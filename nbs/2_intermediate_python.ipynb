{
 "cells": [
  {
   "cell_type": "markdown",
   "id": "062f1fa6",
   "metadata": {},
   "source": [
    "# *args and **kwargs"
   ]
  },
  {
   "cell_type": "markdown",
   "id": "d030cfa1",
   "metadata": {},
   "source": [
    "## A Python function that takes an arbitrary number of positional arguments and returns the sum of all the numbers"
   ]
  },
  {
   "cell_type": "code",
   "execution_count": 1,
   "id": "9f10bff1",
   "metadata": {},
   "outputs": [],
   "source": [
    "def sum_numbers(*args: int | float) -> int | float:\n",
    "    \"\"\"\n",
    "    Calculate the sum of all the given numbers.\n",
    "\n",
    "    Args:\n",
    "        *args: Any number of positional arguments (int or float).\n",
    "\n",
    "    Returns:\n",
    "        The sum of all the numbers passed as arguments.\n",
    "\n",
    "    Examples:\n",
    "        >>> sum_numbers(1, 2, 3)\n",
    "        6\n",
    "        >>> sum_numbers(1.5, 2.5, 3.5)\n",
    "        7.5\n",
    "        >>> sum_numbers(10, 20, 30, 40, 50)\n",
    "        150\n",
    "        >>> sum_numbers()\n",
    "        0\n",
    "    \"\"\"\n",
    "    return sum(args)\n"
   ]
  },
  {
   "cell_type": "code",
   "execution_count": 3,
   "id": "eec15dbe",
   "metadata": {},
   "outputs": [
    {
     "name": "stdout",
     "output_type": "stream",
     "text": [
      "6\n",
      "15\n",
      "150\n",
      "0\n",
      "0\n"
     ]
    }
   ],
   "source": [
    "print(sum_numbers(1, 2, 3))\n",
    "print(sum_numbers(1, 2, 3, 4, 5))\n",
    "print(sum_numbers(10, 20, 30, 40, 50))\n",
    "print(sum_numbers(1, -1, 2, -2, 3, -3))\n",
    "print(sum_numbers())"
   ]
  },
  {
   "cell_type": "markdown",
   "id": "d77af792",
   "metadata": {},
   "source": [
    "## This Python function 'concat_strings' takes any number of strings as arguments and returns a single concatenated string."
   ]
  },
  {
   "cell_type": "code",
   "execution_count": 4,
   "id": "816e312b",
   "metadata": {},
   "outputs": [],
   "source": [
    "def concat_strings(*args: str) -> str:\n",
    "    \"\"\"\n",
    "    Concatenate any number of strings into a single string.\n",
    "\n",
    "    Args:\n",
    "        *args: Any number of strings.\n",
    "\n",
    "    Returns:\n",
    "        The concatenated string.\n",
    "\n",
    "    Examples:\n",
    "        >>> concat_strings(\"Hello\", \" \", \"World\")\n",
    "        'Hello World'\n",
    "        >>> concat_strings(\"Python\", \" \", \"is\", \" \", \"awesome!\")\n",
    "        'Python is awesome!'\n",
    "        >>> concat_strings(\"I\", \" \", \"love\", \" \", \"Python\", \" \", \"programming.\")\n",
    "        'I love Python programming.'\n",
    "        >>> concat_strings()\n",
    "        ''\n",
    "    \"\"\"\n",
    "    return ''.join(args)\n"
   ]
  },
  {
   "cell_type": "code",
   "execution_count": 5,
   "id": "a6f079e2",
   "metadata": {
    "scrolled": true
   },
   "outputs": [
    {
     "name": "stdout",
     "output_type": "stream",
     "text": [
      "\n",
      "Never put off till tomorrow  what may be done the day after tomorrow just as well.\n"
     ]
    }
   ],
   "source": [
    "print(concat_strings('', ''))\n",
    "print(concat_strings('Never put off till tomorrow ', ' what may be done the day after tomorrow just as well.'))"
   ]
  },
  {
   "cell_type": "markdown",
   "id": "d5d45b1a",
   "metadata": {},
   "source": [
    "## This python function 'calculate_total_cost' calculates the total cost of items purchased from a store. \n",
    "The function should accepts multiple keyword arguments, where the key is the item name, and the value is the item's price. The function returns the total cost of all items."
   ]
  },
  {
   "cell_type": "code",
   "execution_count": null,
   "id": "bb2cc55f",
   "metadata": {
    "collapsed": true
   },
   "outputs": [],
   "source": [
    "def calculate_total_cost(**items) -> float:\n",
    "    \"\"\"\n",
    "    Calculate the total cost of items purchased from a store.\n",
    "\n",
    "    Args:\n",
    "        **items: Keyword arguments representing item names as keys and item prices as values.\n",
    "\n",
    "    Returns:\n",
    "        float: The total cost of all items.\n",
    "\n",
    "    Examples:\n",
    "        >>> calculate_total_cost(apple=0.5, banana=0.3, orange=0.4)\n",
    "        1.2\n",
    "        >>> calculate_total_cost(laptop=1000, mouse=20, keyboard=50, monitor=200)\n",
    "        1270.0\n",
    "        >>> calculate_total_cost()\n",
    "        0.0\n",
    "    \"\"\"\n",
    "    total_cost = sum(items.values())\n",
    "    return total_cost"
   ]
  },
  {
   "cell_type": "markdown",
   "id": "b128c5c3",
   "metadata": {},
   "source": [
    "# Map, Filter, Reduce"
   ]
  },
  {
   "cell_type": "markdown",
   "id": "9618e9cc",
   "metadata": {},
   "source": [
    "## This function 'convert_to_uppercase' takes a list of strings as input and uses the map function to return a new list with all the strings converted to uppercase."
   ]
  },
  {
   "cell_type": "code",
   "execution_count": 7,
   "id": "0a799a97",
   "metadata": {},
   "outputs": [],
   "source": [
    "def convert_to_uppercase(strings_list: list[str]) -> list[str]:\n",
    "    \"\"\"\n",
    "    Convert all strings in the list to uppercase.\n",
    "\n",
    "    Args:\n",
    "        strings_list (list): A list of strings.\n",
    "\n",
    "    Returns:\n",
    "        list: A new list with all strings converted to uppercase.\n",
    "\n",
    "Examples:\n",
    "        >>> input_list = ['hello', 'world', 'python']\n",
    "        >>> convert_to_uppercase(input_list)\n",
    "        ['HELLO', 'WORLD', 'PYTHON']\n",
    "\n",
    "        >>> input_list = ['apple', 'banana', 'orange']\n",
    "        >>> convert_to_uppercase(input_list)\n",
    "        ['APPLE', 'BANANA', 'ORANGE']\n",
    "    \"\"\"\n",
    "    return list(map(str.upper, strings_list))"
   ]
  },
  {
   "cell_type": "code",
   "execution_count": 8,
   "id": "766fe641",
   "metadata": {},
   "outputs": [
    {
     "data": {
      "text/plain": [
       "['HELLO', 'WORLD', 'PYTHON']"
      ]
     },
     "execution_count": 8,
     "metadata": {},
     "output_type": "execute_result"
    }
   ],
   "source": [
    "convert_to_uppercase(['hello', 'world', 'python'])"
   ]
  },
  {
   "cell_type": "markdown",
   "id": "3b1fd16f",
   "metadata": {},
   "source": [
    "## This Python function 'filter_long_strings' takes a list of strings as input and uses the filter function to return a new list containing strings with more than 5 characters."
   ]
  },
  {
   "cell_type": "code",
   "execution_count": 26,
   "id": "70300626",
   "metadata": {},
   "outputs": [],
   "source": [
    "def filter_long_strings(strings_list: list[str]) -> list[str]:\n",
    "    \"\"\"\n",
    "    Filter strings with more than 5 characters from the given list.\n",
    "\n",
    "    Args:\n",
    "        strings_list (list): A list of strings.\n",
    "\n",
    "    Returns:\n",
    "        list: A new list containing strings with more than 5 characters.\n",
    "\n",
    "    Examples:\n",
    "        >>> input_list = ['apple', 'banana', 'orange', 'grapes', 'kiwi', 'pear']\n",
    "        >>> filter_long_strings(input_list)\n",
    "        ['banana', 'orange', 'grapes']\n",
    "\n",
    "        >>> input_list = ['python', 'java', 'c', 'c++', 'ruby']\n",
    "        >>> filter_long_strings(input_list)\n",
    "        ['python']\n",
    "    \"\"\"\n",
    "    return list(filter(lambda x: len(x) > 5, strings_list))"
   ]
  },
  {
   "cell_type": "code",
   "execution_count": 29,
   "id": "8573dfed",
   "metadata": {},
   "outputs": [
    {
     "name": "stdout",
     "output_type": "stream",
     "text": [
      "['Worlds']\n"
     ]
    }
   ],
   "source": [
    "print(filter_long_strings(['Hello', 'Worlds']))"
   ]
  },
  {
   "cell_type": "markdown",
   "id": "a0907919",
   "metadata": {},
   "source": [
    "## This python function 'calculate_factorial' takes an integer as input and uses the reduce function to return the factorial of that number."
   ]
  },
  {
   "cell_type": "code",
   "execution_count": 22,
   "id": "ad7f7281",
   "metadata": {},
   "outputs": [],
   "source": [
    "from functools import reduce\n",
    "\n",
    "def calculate_factorial(n: int) -> int:\n",
    "    \"\"\"\n",
    "    Calculate the factorial of a given integer.\n",
    "\n",
    "    Args:\n",
    "        n (int): The integer for which to calculate the factorial.\n",
    "\n",
    "    Returns:\n",
    "        int: The factorial of the input integer.\n",
    "\n",
    "    Raises:\n",
    "        ValueError: If the input is negative.\n",
    "\n",
    "    Examples:\n",
    "        >>> calculate_factorial(5)\n",
    "        120\n",
    "        >>> calculate_factorial(0)\n",
    "        1\n",
    "        >>> calculate_factorial(10)\n",
    "        3628800\n",
    "        >>> calculate_factorial(-5)\n",
    "        Traceback (most recent call last):\n",
    "        ...\n",
    "        ValueError: Factorial is not defined for negative numbers.\n",
    "    \"\"\"\n",
    "    if n < 0:\n",
    "        raise ValueError(\"Factorial is not defined for negative numbers.\")\n",
    "    return reduce(lambda x, y: x * y, range(1, n + 1), 1)\n"
   ]
  },
  {
   "cell_type": "code",
   "execution_count": 24,
   "id": "c8ce97ab",
   "metadata": {},
   "outputs": [
    {
     "name": "stdout",
     "output_type": "stream",
     "text": [
      "120\n",
      "1\n",
      "5040\n"
     ]
    }
   ],
   "source": [
    "print(calculate_factorial(5))\n",
    "print(calculate_factorial(0))\n",
    "print(calculate_factorial(7))"
   ]
  },
  {
   "cell_type": "markdown",
   "id": "8cd06a74",
   "metadata": {},
   "source": [
    "# Ternary Operations"
   ]
  },
  {
   "cell_type": "markdown",
   "id": "5e62d0ce",
   "metadata": {},
   "source": [
    "## This Python function called 'check_odd_even' takes an integer as input and uses a ternary operator to return \"Even\" if the number is even, and \"Odd\" if the number is odd"
   ]
  },
  {
   "cell_type": "code",
   "execution_count": 32,
   "id": "8fa16a29",
   "metadata": {},
   "outputs": [],
   "source": [
    "def check_odd_even(number: int) -> str:\n",
    "    \"\"\"\n",
    "    Check if the given number is odd or even using a ternary operator.\n",
    "\n",
    "    Args:\n",
    "        number (int): The integer to be checked.\n",
    "\n",
    "    Returns:\n",
    "        str: \"Even\" if the number is even, \"Odd\" if the number is odd.\n",
    "\n",
    "    Examples:\n",
    "        >>> check_odd_even(10)\n",
    "        'Even'\n",
    "        >>> check_odd_even(7)\n",
    "        'Odd'\n",
    "        >>> check_odd_even(0)\n",
    "        'Even'\n",
    "    \"\"\"\n",
    "    return \"Even\" if number % 2 == 0 else \"Odd\"\n"
   ]
  },
  {
   "cell_type": "code",
   "execution_count": 33,
   "id": "e9b2046c",
   "metadata": {},
   "outputs": [
    {
     "name": "stdout",
     "output_type": "stream",
     "text": [
      "Odd\n",
      "Even\n"
     ]
    }
   ],
   "source": [
    "print(check_odd_even(3))\n",
    "print(check_odd_even(2))"
   ]
  },
  {
   "cell_type": "markdown",
   "id": "bcb51d39",
   "metadata": {},
   "source": [
    "## This function 'find_bigger_number' takes three integers as input and uses a ternary operator to return the larger number. If all numbers are equal, return \"Equal.\""
   ]
  },
  {
   "cell_type": "code",
   "execution_count": 59,
   "id": "02c1b081",
   "metadata": {},
   "outputs": [],
   "source": [
    "def find_bigger_number(a: int, b: int, c: int) -> int | str:\n",
    "    \"\"\"\n",
    "    Find the bigger number among the three integers.\n",
    "\n",
    "    Args:\n",
    "        a (int): The first integer.\n",
    "        b (int): The second integer.\n",
    "        c (int): The third integer.\n",
    "\n",
    "    Returns:\n",
    "        int | str: The larger number among a, b, and c. If all numbers are equal, returns \"Equal.\"\n",
    "\n",
    "    Examples:\n",
    "        >>> find_bigger_number(5, 10, 7)\n",
    "        10\n",
    "        >>> find_bigger_number(3, 3, 3)\n",
    "        'Equal'\n",
    "        >>> find_bigger_number(-2, -5, -1)\n",
    "        -1\n",
    "        >>> find_bigger_number(30, 15, 30)\n",
    "        30\n",
    "    \"\"\"\n",
    "    output = \"Equal\" if a == b == c else a if a > b and a > c else b if b > c else c\n",
    "\n",
    "    return output"
   ]
  },
  {
   "cell_type": "code",
   "execution_count": 60,
   "id": "43086f7f",
   "metadata": {},
   "outputs": [
    {
     "name": "stdout",
     "output_type": "stream",
     "text": [
      "3\n",
      "-1\n"
     ]
    }
   ],
   "source": [
    "print(find_bigger_number(3, 2, 1))\n",
    "print(find_bigger_number(-2, -5, -1))"
   ]
  },
  {
   "cell_type": "markdown",
   "id": "c3e40025",
   "metadata": {},
   "source": [
    "## This function called 'check_prime' takes a positive integer as input and uses a ternary operator to determine if it's a prime number. It returns \"Prime\" if it is, otherwise \"Not Prime.\""
   ]
  },
  {
   "cell_type": "code",
   "execution_count": 64,
   "id": "247553c8",
   "metadata": {},
   "outputs": [],
   "source": [
    "def check_prime(n: int) -> str:\n",
    "    \"\"\"\n",
    "    Check if the given number is prime using a ternary operator.\n",
    "\n",
    "    Args:\n",
    "        n (int): The positive integer to be checked.\n",
    "\n",
    "    Returns:\n",
    "        str: \"Prime\" if the number is prime, \"Not Prime\" otherwise.\n",
    "\n",
    "    Examples:\n",
    "        >>> check_prime(5)\n",
    "        'Prime'\n",
    "        >>> check_prime(10)\n",
    "        'Not Prime'\n",
    "        >>> check_prime(17)\n",
    "        'Prime'\n",
    "        >>> check_prime(1)\n",
    "        'Not Prime'\n",
    "    \"\"\"\n",
    "\n",
    "    output = \"Not Prime\" if n < 2 else \"Prime\" if all(n % i != 0 for i in range(2, int(n ** 0.5) + 1)) else \"Not Prime\"\n",
    "    return output"
   ]
  },
  {
   "cell_type": "code",
   "execution_count": 66,
   "id": "fbe99112",
   "metadata": {
    "scrolled": true
   },
   "outputs": [
    {
     "name": "stdout",
     "output_type": "stream",
     "text": [
      "Prime\n",
      "Not Prime\n",
      "Prime\n",
      "Not Prime\n"
     ]
    }
   ],
   "source": [
    "print(check_prime(3))\n",
    "print(check_prime(4))\n",
    "print(check_prime(7))\n",
    "print(check_prime(192))"
   ]
  },
  {
   "cell_type": "markdown",
   "id": "c0271d3d",
   "metadata": {},
   "source": [
    "# Collections"
   ]
  },
  {
   "cell_type": "markdown",
   "id": "eb7d27ce",
   "metadata": {},
   "source": [
    "## Given an array of strings (str), this function groups the anagrams together."
   ]
  },
  {
   "cell_type": "code",
   "execution_count": 69,
   "id": "5f58e954",
   "metadata": {},
   "outputs": [],
   "source": [
    "def group_anagrams(strs: list[str]) -> list[list[str]]:\n",
    "    \"\"\"\n",
    "    Group anagrams together from the given list of strings.\n",
    "\n",
    "    An anagram is a word or phrase formed by rearranging the letters of a different word or phrase,\n",
    "    typically using all the original letters exactly once.\n",
    "\n",
    "    Args:\n",
    "        strs (list[str]): A list of strings to be grouped.\n",
    "\n",
    "    Returns:\n",
    "        list[list[str]]: A list of lists containing grouped anagrams.\n",
    "\n",
    "    Examples:\n",
    "        >>> strs = [\"eat\", \"tea\", \"tan\", \"ate\", \"nat\", \"bat\"]\n",
    "        >>> group_anagrams(strs)\n",
    "        [['eat', 'tea', 'ate'], ['tan', 'nat'], ['bat']]\n",
    "\n",
    "        >>> strs = [\"listen\", \"silent\", \"enlist\", \"tinsel\"]\n",
    "        >>> group_anagrams(strs)\n",
    "        [['listen', 'silent'], ['enlist'], ['tinsel']]\n",
    "    \"\"\"\n",
    "    anagram_dict = {}\n",
    "    for word in strs:\n",
    "        sorted_word = ''.join(sorted(word))\n",
    "        if sorted_word in anagram_dict:\n",
    "            anagram_dict[sorted_word].append(word)\n",
    "        else:\n",
    "            anagram_dict[sorted_word] = [word]\n",
    "\n",
    "    return list(anagram_dict.values())\n"
   ]
  },
  {
   "cell_type": "code",
   "execution_count": 71,
   "id": "3b025418",
   "metadata": {},
   "outputs": [
    {
     "data": {
      "text/plain": [
       "[['eat', 'tea', 'ate'], ['tan', 'nat'], ['bat']]"
      ]
     },
     "execution_count": 71,
     "metadata": {},
     "output_type": "execute_result"
    }
   ],
   "source": [
    "strs = [\"eat\", \"tea\", \"tan\", \"ate\", \"nat\", \"bat\"]\n",
    "group_anagrams(strs)"
   ]
  },
  {
   "cell_type": "markdown",
   "id": "27f41a37",
   "metadata": {},
   "source": [
    "# Comprehensions"
   ]
  },
  {
   "cell_type": "markdown",
   "id": "ae2365b8",
   "metadata": {},
   "source": [
    "## Given a list of strings, this function creates a new list that contains only the strings with more than 5 characters using list comprehension."
   ]
  },
  {
   "cell_type": "code",
   "execution_count": 73,
   "id": "01299261",
   "metadata": {},
   "outputs": [],
   "source": [
    "def filter_long_strings(strings_list: list[str]) -> list[str]:\n",
    "    \"\"\"\n",
    "    Filter strings with more than 5 characters from the given list using list comprehension.\n",
    "\n",
    "    Args:\n",
    "        strings_list (list[str]): A list of strings.\n",
    "\n",
    "    Returns:\n",
    "        list[str]: A new list containing strings with more than 5 characters.\n",
    "\n",
    "    Examples:\n",
    "        >>> input_list = ['apple', 'banana', 'orange', 'grapes', 'kiwi', 'pear']\n",
    "        >>> filter_long_strings(input_list)\n",
    "        ['banana', 'orange', 'grapes']\n",
    "\n",
    "        >>> input_list = ['python', 'java', 'c', 'c++', 'ruby']\n",
    "        >>> filter_long_strings(input_list)\n",
    "        ['python']\n",
    "    \"\"\"\n",
    "    return [string for string in strings_list if len(string) > 5]\n"
   ]
  },
  {
   "cell_type": "code",
   "execution_count": 75,
   "id": "ff94ffe1",
   "metadata": {},
   "outputs": [
    {
     "data": {
      "text/plain": [
       "['banana', 'orange', 'grapes']"
      ]
     },
     "execution_count": 75,
     "metadata": {},
     "output_type": "execute_result"
    }
   ],
   "source": [
    "input_list1 = ['apple', 'banana', 'orange', 'grapes', 'kiwi', 'pear']\n",
    "filter_long_strings(input_list1)"
   ]
  },
  {
   "cell_type": "markdown",
   "id": "da203c88",
   "metadata": {},
   "source": [
    "## Given two lists of integers, this function creates a list that contains the product of each element of the first list with the corresponding element in the second list using list comprehension."
   ]
  },
  {
   "cell_type": "code",
   "execution_count": 76,
   "id": "0a7d6a49",
   "metadata": {},
   "outputs": [],
   "source": [
    "def elementwise_product(list1: list[int], list2: list[int]) -> list[int]:\n",
    "    \"\"\"\n",
    "    Create a new list containing the product of each element of the first list\n",
    "    with the corresponding element in the second list.\n",
    "\n",
    "    Args:\n",
    "        list1 (list[int]): The first list of integers.\n",
    "        list2 (list[int]): The second list of integers.\n",
    "\n",
    "    Returns:\n",
    "        list[int]: A new list containing the element-wise product.\n",
    "\n",
    "    Examples:\n",
    "        >>> list1 = [1, 2, 3, 4, 5]\n",
    "        >>> list2 = [10, 20, 30, 40, 50]\n",
    "        >>> elementwise_product(list1, list2)\n",
    "        [10, 40, 90, 160, 250]\n",
    "\n",
    "        >>> list1 = [2, 4, 6, 8]\n",
    "        >>> list2 = [3, 3, 3, 3]\n",
    "        >>> elementwise_product(list1, list2)\n",
    "        [6, 12, 18, 24]\n",
    "    \"\"\"\n",
    "    return [x * y for x, y in zip(list1, list2)]\n"
   ]
  },
  {
   "cell_type": "code",
   "execution_count": 79,
   "id": "a6c57b6b",
   "metadata": {},
   "outputs": [
    {
     "name": "stdout",
     "output_type": "stream",
     "text": [
      "[10, 40, 90, 160, 250]\n"
     ]
    },
    {
     "data": {
      "text/plain": [
       "[3, 6, 9, 12, 15]"
      ]
     },
     "execution_count": 79,
     "metadata": {},
     "output_type": "execute_result"
    }
   ],
   "source": [
    "list1 = [1, 2, 3, 4, 5]\n",
    "list2 = [10, 20, 30, 40, 50]\n",
    "list3 = [3, 3, 3, 3, 3]\n",
    "print(elementwise_product(list1, list2))\n",
    "(elementwise_product(list1, list3))"
   ]
  },
  {
   "cell_type": "markdown",
   "id": "40097281",
   "metadata": {},
   "source": [
    "## Given two lists - one containing keys and another containing values, it creates a dictionary using dictionary comprehension."
   ]
  },
  {
   "cell_type": "code",
   "execution_count": 82,
   "id": "b2d26ef8",
   "metadata": {},
   "outputs": [],
   "source": [
    "def create_dictionary(keys_list: list[any], values_list: list[any]) -> dict[any, any]:\n",
    "    \"\"\"\n",
    "    Create a dictionary using dictionary comprehension from two lists containing keys and values.\n",
    "\n",
    "    Args:\n",
    "        keys_list (list[any]): The list containing keys.\n",
    "        values_list (list[any]): The list containing corresponding values.\n",
    "\n",
    "    Returns:\n",
    "        Dict[any, any]: A dictionary with keys and values from the two input lists.\n",
    "\n",
    "    Examples:\n",
    "        >>> keys_list = ['a', 'b', 'c']\n",
    "        >>> values_list = [1, 2, 3]\n",
    "        >>> create_dictionary(keys_list, values_list)\n",
    "        {'a': 1, 'b': 2, 'c': 3}\n",
    "\n",
    "        >>> keys_list = ['x', 'y', 'z']\n",
    "        >>> values_list = [10, 20, 30]\n",
    "        >>> create_dictionary(keys_list, values_list)\n",
    "        {'x': 10, 'y': 20, 'z': 30}\n",
    "    \"\"\"\n",
    "    return {key: value for key, value in zip(keys_list, values_list)}\n"
   ]
  },
  {
   "cell_type": "code",
   "execution_count": 84,
   "id": "b0483844",
   "metadata": {},
   "outputs": [
    {
     "data": {
      "text/plain": [
       "{'a': 1, 'b': 2, 'c': 3}"
      ]
     },
     "execution_count": 84,
     "metadata": {},
     "output_type": "execute_result"
    }
   ],
   "source": [
    "keys_list = ['a', 'b', 'c']\n",
    "values_list = [1, 2, 3]\n",
    "create_dictionary(keys_list, values_list)"
   ]
  },
  {
   "cell_type": "markdown",
   "id": "e540e9e9",
   "metadata": {},
   "source": [
    "## Given a dictionary with students' names as keys and their respective scores as values, it creates a new dictionary that contain only the students who scored more than 80 using dictionary comprehension"
   ]
  },
  {
   "cell_type": "code",
   "execution_count": 85,
   "id": "d3fdc04d",
   "metadata": {},
   "outputs": [],
   "source": [
    "def filter_students_above_80(scores_dict: dict[str, int]) -> dict[str, int]:\n",
    "    \"\"\"\n",
    "    Create a new dictionary containing only the students who scored more than 80.\n",
    "\n",
    "    Args:\n",
    "        scores_dict (dict[str, int]): A dictionary with students' names as keys and their respective scores as values.\n",
    "\n",
    "    Returns:\n",
    "        dict[str, int]: A new dictionary with students who scored more than 80.\n",
    "\n",
    "    Examples:\n",
    "        >>> scores = {'Alice': 85, 'Bob': 70, 'Charlie': 90, 'David': 75}\n",
    "        >>> filter_students_above_80(scores)\n",
    "        {'Alice': 85, 'Charlie': 90}\n",
    "    \"\"\"\n",
    "    return {name: score for name, score in scores_dict.items() if score > 80}"
   ]
  },
  {
   "cell_type": "code",
   "execution_count": 87,
   "id": "b40e7b5a",
   "metadata": {},
   "outputs": [
    {
     "data": {
      "text/plain": [
       "{'Alice': 85, 'Charlie': 90}"
      ]
     },
     "execution_count": 87,
     "metadata": {},
     "output_type": "execute_result"
    }
   ],
   "source": [
    "scores1 = {'Alice': 85, 'Bob': 70, 'Charlie': 90, 'David': 75}\n",
    "filter_students_above_80(scores1)"
   ]
  },
  {
   "cell_type": "markdown",
   "id": "4d168510",
   "metadata": {},
   "source": [
    "## Given a list of numbers, this function creates a set using set comprehension that contains only unique even numbers."
   ]
  },
  {
   "cell_type": "code",
   "execution_count": 88,
   "id": "6fbe2125",
   "metadata": {},
   "outputs": [],
   "source": [
    "def unique_even_numbers(numbers: list[int]) -> set[int]:\n",
    "    \"\"\"\n",
    "    Create a set containing unique even numbers from the given list.\n",
    "\n",
    "    Args:\n",
    "        numbers (list[int]): The list of numbers.\n",
    "\n",
    "    Returns:\n",
    "        set[int]: A set containing unique even numbers.\n",
    "\n",
    "    Examples:\n",
    "        >>> numbers1 = [1, 2, 3, 4, 5, 6, 7, 8, 9]\n",
    "        >>> unique_even_numbers(numbers1)\n",
    "        {2, 4, 6, 8}\n",
    "\n",
    "        >>> numbers2 = [10, 11, 12, 13, 14, 15]\n",
    "        >>> unique_even_numbers(numbers2)\n",
    "        {10, 12, 14}\n",
    "    \"\"\"\n",
    "    return {num for num in numbers if num % 2 == 0}\n"
   ]
  },
  {
   "cell_type": "code",
   "execution_count": 90,
   "id": "9f66e0e0",
   "metadata": {},
   "outputs": [
    {
     "name": "stdout",
     "output_type": "stream",
     "text": [
      "{2, 4, 6, 8, 10, 20}\n"
     ]
    }
   ],
   "source": [
    "print(unique_even_numbers([2, 4, 6, 8, 10, 19, 20, 20]))"
   ]
  },
  {
   "cell_type": "markdown",
   "id": "27ed91f7",
   "metadata": {},
   "source": [
    "## Given a list of words, this Python program creates a set using set comprehension that contains all the unique characters present in the words."
   ]
  },
  {
   "cell_type": "code",
   "execution_count": 1,
   "id": "af1d22a0",
   "metadata": {},
   "outputs": [],
   "source": [
    "def unique_characters_in_words(words: list[str]) -> set[str]:\n",
    "    \"\"\"\n",
    "    Create a set containing all unique characters present in the words.\n",
    "\n",
    "    Args:\n",
    "        words (list[str]): The list of words.\n",
    "\n",
    "    Returns:\n",
    "        set[str]: A set containing all unique characters.\n",
    "\n",
    "    Examples:\n",
    "        >>> words1 = ['hello', 'world', 'python']\n",
    "        >>> unique_characters_in_words(words1)\n",
    "        {'d', 'h', 'e', 'n', 'l', 'o', 'p', 'r', 't', 'w', 'y'}\n",
    "\n",
    "        >>> words2 = ['apple', 'banana', 'orange']\n",
    "        >>> unique_characters_in_words(words2)\n",
    "        {'a', 'b', 'n', 'e', 'l', 'p', 'r', 'g', 'o'}\n",
    "    \"\"\"\n",
    "    return {char for word in words for char in word}"
   ]
  },
  {
   "cell_type": "code",
   "execution_count": 93,
   "id": "d757b7a0",
   "metadata": {},
   "outputs": [
    {
     "data": {
      "text/plain": [
       "{'$', '@', 'a', 'c', 'h', 'i', 'j', 'n', 'o', 'p', 'r', 's', 't', 'v', 'y'}"
      ]
     },
     "execution_count": 93,
     "metadata": {},
     "output_type": "execute_result"
    }
   ],
   "source": [
    "words6 = ['@python', 'javascript', '$python']\n",
    "unique_characters_in_words(words6)"
   ]
  },
  {
   "cell_type": "markdown",
   "id": "f782496e",
   "metadata": {},
   "source": [
    "# Exception Handling"
   ]
  },
  {
   "cell_type": "markdown",
   "id": "dcac6ac2",
   "metadata": {},
   "source": [
    "## This Python program takes two integers as input and performs division (num1 / num2). Handle the ZeroDivisionError and display a custom error message when the second number is zero."
   ]
  },
  {
   "cell_type": "code",
   "execution_count": 95,
   "id": "ca92f07c",
   "metadata": {
    "scrolled": true
   },
   "outputs": [
    {
     "name": "stdout",
     "output_type": "stream",
     "text": [
      "Enter the numerator: 4\n",
      "Enter the denominator: 0\n",
      "Division by zero is not allowed. Please provide a non-zero denominator.\n"
     ]
    }
   ],
   "source": [
    "def divide_numbers(num1: int, num2: int) -> float:\n",
    "    \"\"\"\n",
    "    Perform division of two integers and handle ZeroDivisionError.\n",
    "\n",
    "    Args:\n",
    "        num1 (int): The numerator.\n",
    "        num2 (int): The denominator.\n",
    "\n",
    "    Returns:\n",
    "        float: The result of division (num1 / num2).\n",
    "\n",
    "    Raises:\n",
    "        ZeroDivisionError: If the denominator (num2) is zero.\n",
    "\n",
    "    Examples:\n",
    "        >>> divide_numbers(10, 2)\n",
    "        5.0\n",
    "\n",
    "        >>> divide_numbers(8, 0)\n",
    "        Traceback (most recent call last):\n",
    "        ...\n",
    "        ZeroDivisionError: Division by zero is not allowed. Please provide a non-zero denominator.\n",
    "    \"\"\"\n",
    "    if num2 == 0:\n",
    "        raise ZeroDivisionError(\"Division by zero is not allowed. Please provide a non-zero denominator.\")\n",
    "    return num1 / num2\n",
    "\n",
    "if __name__ == \"__main__\":\n",
    "    num1 = int(input(\"Enter the numerator: \"))\n",
    "    num2 = int(input(\"Enter the denominator: \"))\n",
    "\n",
    "    try:\n",
    "        result = divide_numbers(num1, num2)\n",
    "        print(f\"Result: {result}\")\n",
    "    except ZeroDivisionError as e:\n",
    "        print(e)\n"
   ]
  },
  {
   "cell_type": "markdown",
   "id": "e633e05b",
   "metadata": {},
   "source": [
    "## This function implements a program that takes user input for a filename, opens the file in read mode, and displays its contents. \n",
    "It handles the FileNotFoundError and displays an error message if the file is not found"
   ]
  },
  {
   "cell_type": "code",
   "execution_count": 100,
   "id": "c3bdf8e9",
   "metadata": {
    "scrolled": true
   },
   "outputs": [
    {
     "name": "stdout",
     "output_type": "stream",
     "text": [
      "Enter the filename: Intermediate Python.ipynb\n",
      "File 'Intermediate Python.ipynb' not found. Please check the file name and try again.\n"
     ]
    }
   ],
   "source": [
    "def read_file_contents(filename: str) -> None:\n",
    "    \"\"\"\n",
    "    Read and display the contents of the given file.\n",
    "\n",
    "    Args:\n",
    "        filename (str): The name of the file to be read.\n",
    "\n",
    "    Raises:\n",
    "        FileNotFoundError: If the specified file is not found.\n",
    "\n",
    "    Examples:\n",
    "        >>> read_file_contents(\"example.txt\")\n",
    "        File 'example.txt' contents:\n",
    "        Line 1: This is line 1\n",
    "        Line 2: This is line 2\n",
    "        Line 3: This is line 3\n",
    "\n",
    "        >>> read_file_contents(\"nonexistent_file.txt\")\n",
    "        File 'nonexistent_file.txt' not found. Please check the file name and try again.\n",
    "    \"\"\"\n",
    "    try:\n",
    "        with open(filename, \"r\") as file:\n",
    "            print(f\"File '{filename}' contents:\")\n",
    "            for line_number, line in enumerate(file, 1):\n",
    "                print(f\"Line {line_number}: {line.strip()}\")\n",
    "    except FileNotFoundError:\n",
    "        print(f\"File '{filename}' not found. Please check the file name and try again.\")\n",
    "\n",
    "if __name__ == \"__main__\":\n",
    "    filename = input(\"Enter the filename: \")\n",
    "    read_file_contents(filename)\n"
   ]
  },
  {
   "cell_type": "markdown",
   "id": "2f755bf4",
   "metadata": {},
   "source": [
    "## This python program takes a user input and converts it to an integer. \n",
    "It handles the ValueError and display a custom error message when the input cannot be converted to an integer"
   ]
  },
  {
   "cell_type": "code",
   "execution_count": 102,
   "id": "27ef8035",
   "metadata": {},
   "outputs": [
    {
     "name": "stdout",
     "output_type": "stream",
     "text": [
      "Enter an integer: 3.5\n",
      "Invalid input. Please enter a valid integer.\n"
     ]
    }
   ],
   "source": [
    "def convert_to_integer(user_input: str) -> int:\n",
    "    \"\"\"\n",
    "    Convert the given user input to an integer.\n",
    "\n",
    "    Args:\n",
    "        user_input (str): The user-provided input.\n",
    "\n",
    "    Returns:\n",
    "        int: The integer representation of the input.\n",
    "\n",
    "    Raises:\n",
    "        ValueError: If the input cannot be converted to an integer.\n",
    "\n",
    "    Examples:\n",
    "        >>> convert_to_integer(\"123\")\n",
    "        123\n",
    "\n",
    "        >>> convert_to_integer(\"abc\")\n",
    "        Traceback (most recent call last):\n",
    "        ...\n",
    "        ValueError: Invalid input. Please enter a valid integer.\n",
    "    \"\"\"\n",
    "    try:\n",
    "        integer_value = int(user_input)\n",
    "        return integer_value\n",
    "    except ValueError:\n",
    "        raise ValueError(\"Invalid input. Please enter a valid integer.\")\n",
    "\n",
    "if __name__ == \"__main__\":\n",
    "    user_input = input(\"Enter an integer: \")\n",
    "\n",
    "    try:\n",
    "        result = convert_to_integer(user_input)\n",
    "        print(f\"Integer value: {result}\")\n",
    "    except ValueError as e:\n",
    "        print(e)\n"
   ]
  },
  {
   "cell_type": "markdown",
   "id": "80de7a94",
   "metadata": {},
   "source": [
    "## This python program that takes two integers as input and performs division (num1 / num2). \n",
    "It handles both ValueError (if non-integer input) and ZeroDivisionError and displays appropriate error messages."
   ]
  },
  {
   "cell_type": "code",
   "execution_count": 105,
   "id": "9f1bed37",
   "metadata": {},
   "outputs": [
    {
     "name": "stdout",
     "output_type": "stream",
     "text": [
      "Enter the numerator: 10\n",
      "Enter the denominator: 0\n",
      "Division by zero is not allowed. Please provide a non-zero denominator.\n"
     ]
    }
   ],
   "source": [
    "def divide_numbers(num1: int, num2: int) -> float:\n",
    "    \"\"\"\n",
    "    Perform division of two integers and handle ValueError and ZeroDivisionError.\n",
    "\n",
    "    Args:\n",
    "        num1 (int): The numerator.\n",
    "        num2 (int): The denominator.\n",
    "\n",
    "    Returns:\n",
    "        float: The result of division (num1 / num2).\n",
    "\n",
    "    Raises:\n",
    "        ValueError: If either num1 or num2 is not an integer.\n",
    "        ZeroDivisionError: If the denominator (num2) is zero.\n",
    "\n",
    "    Examples:\n",
    "        >>> divide_numbers(10, 2)\n",
    "        5.0\n",
    "\n",
    "        >>> divide_numbers(8, 0)\n",
    "        Traceback (most recent call last):\n",
    "        ...\n",
    "        ZeroDivisionError: Division by zero is not allowed. Please provide a non-zero denominator.\n",
    "\n",
    "        >>> divide_numbers(5, \"abc\")\n",
    "        Traceback (most recent call last):\n",
    "        ...\n",
    "        ValueError: Invalid input. Please enter valid integers for both numerator and denominator.\n",
    "    \"\"\"\n",
    "    if not isinstance(num1, int) or not isinstance(num2, int):\n",
    "        raise ValueError(\"Invalid input. Please enter valid integers for both numerator and denominator.\")\n",
    "    \n",
    "    if num2 == 0:\n",
    "        raise ZeroDivisionError(\"Division by zero is not allowed. Please provide a non-zero denominator.\")\n",
    "    \n",
    "    return num1 / num2\n",
    "\n",
    "if __name__ == \"__main__\":\n",
    "    try:\n",
    "        num1 = int(input(\"Enter the numerator: \"))\n",
    "        num2 = int(input(\"Enter the denominator: \"))\n",
    "\n",
    "        result = divide_numbers(num1, num2)\n",
    "        print(f\"Result: {result}\")\n",
    "\n",
    "    except ValueError as e:\n",
    "        print(e)\n",
    "    except ZeroDivisionError as e:\n",
    "        print(e)\n"
   ]
  },
  {
   "cell_type": "markdown",
   "id": "d65e3324",
   "metadata": {},
   "source": [
    "# File I/O"
   ]
  },
  {
   "cell_type": "markdown",
   "id": "2bc86931",
   "metadata": {},
   "source": [
    "## Implement a program that reads a CSV file\n",
    "The file is named \"data.csv,\" containing columns \"Name\" and \"Age.\" Create a new CSV file called \"adults.csv\" with only the rows of individuals who are 18 years or older."
   ]
  },
  {
   "cell_type": "code",
   "execution_count": 9,
   "id": "d83ac189",
   "metadata": {},
   "outputs": [
    {
     "name": "stdout",
     "output_type": "stream",
     "text": [
      "New CSV file './data.csv' created and data written successfully.\n"
     ]
    }
   ],
   "source": [
    "import csv\n",
    "\n",
    "data = [['John', '25'], ['Alice', '30'], ['Bob', '22'], ['Shyam', '12']]\n",
    "header = ['Name', 'Age']\n",
    "\n",
    "# The filename for the new CSV file\n",
    "filename = \"./data.csv\"\n",
    "\n",
    "with open(filename, mode='w', newline='') as csv_file:\n",
    "    writer = csv.writer(csv_file)\n",
    "\n",
    "    # Write the header to the CSV file\n",
    "    writer.writerow(header)\n",
    "\n",
    "    # Write the data to the CSV file\n",
    "    writer.writerows(data)\n",
    "\n",
    "print(f\"New CSV file '{filename}' created and data written successfully.\")\n"
   ]
  },
  {
   "cell_type": "code",
   "execution_count": 10,
   "id": "2b06a99d",
   "metadata": {},
   "outputs": [],
   "source": [
    "import csv\n",
    "\n",
    "def filter_adults(input_file: str, output_file: str) -> None:\n",
    "    \"\"\"\n",
    "    Read a CSV file, filter rows for individuals who are 18 years or older,\n",
    "    and write the filtered rows to a new CSV file.\n",
    "\n",
    "    Args:\n",
    "        input_file (str): The name of the input CSV file.\n",
    "        output_file (str): The name of the output CSV file for adults.\n",
    "\n",
    "    Returns:\n",
    "        None\n",
    "\n",
    "    Examples:\n",
    "        >>> filter_adults(\"data.csv\", \"adults.csv\")\n",
    "    \"\"\"\n",
    "    with open(input_file, mode='r', newline='') as csv_file:\n",
    "        reader = csv.DictReader(csv_file)\n",
    "        fieldnames = reader.fieldnames\n",
    "\n",
    "        # Filter rows for individuals who are 18 years or older\n",
    "        filtered_rows = [row for row in reader if int(row['Age']) >= 18]\n",
    "\n",
    "    with open(output_file, mode='w', newline='') as csv_output:\n",
    "        writer = csv.DictWriter(csv_output, fieldnames=fieldnames)\n",
    "        writer.writeheader()\n",
    "        writer.writerows(filtered_rows)\n",
    "\n",
    "if __name__ == \"__main__\":\n",
    "    input_file = \"data.csv\"\n",
    "    output_file = \"adults.csv\"\n",
    "    filter_adults(input_file, output_file)\n"
   ]
  },
  {
   "cell_type": "markdown",
   "id": "7e4dccba",
   "metadata": {},
   "source": [
    "##  This function reads the JSON data from the file, add the new dictionary to it, and write the updated data back to the same file\n",
    "It takes a filename and a dictionary as input."
   ]
  },
  {
   "cell_type": "code",
   "execution_count": 17,
   "id": "6c6cb858",
   "metadata": {},
   "outputs": [],
   "source": [
    "import json\n",
    "\n",
    "def create_initial_json(filename: str, data: list[dict]) -> None:\n",
    "    \"\"\"\n",
    "    Create an initial JSON file with the provided data.\n",
    "\n",
    "    Args:\n",
    "        filename (str): The name of the JSON file to be created.\n",
    "        data (list[dict]): The list of dictionaries to be written as JSON data.\n",
    "\n",
    "    Returns:\n",
    "        None\n",
    "\n",
    "    Examples:\n",
    "        >>> data = [\n",
    "        ...     {\"name\": \"Ram\", \"age\": 30},\n",
    "        ...     {\"name\": \"Sita\", \"age\": 25}\n",
    "        ... ]\n",
    "        >>> create_initial_json(\"data.json\", data)\n",
    "    \"\"\"\n",
    "    with open(filename, 'w') as json_file:\n",
    "        json.dump(data, json_file, indent=4)\n",
    "\n",
    "if __name__ == \"__main__\":\n",
    "    initial_data = [\n",
    "        {\"name\": \"Ram\", \"age\": 30},\n",
    "        {\"name\": \"Sita\", \"age\": 25}\n",
    "    ]\n",
    "    create_initial_json(\"data.json\", initial_data)\n"
   ]
  },
  {
   "cell_type": "code",
   "execution_count": 18,
   "id": "2db9ab48",
   "metadata": {},
   "outputs": [],
   "source": [
    "import json\n",
    "\n",
    "def add_to_json(filename: str, new_data: dict) -> None:\n",
    "    \"\"\"\n",
    "    Read JSON data from a file, add the new dictionary to it, and write the updated data back to the same file.\n",
    "\n",
    "    Args:\n",
    "        filename (str): The name of the JSON file.\n",
    "        new_data (dict): The dictionary to be added to the JSON data.\n",
    "\n",
    "    Returns:\n",
    "        None\n",
    "\n",
    "    Examples:\n",
    "        >>> data = [\n",
    "        ...     {\"name\": \"Ram\", \"age\": 30},\n",
    "        ...     {\"name\": \"Sita\", \"age\": 25}\n",
    "        ... ]\n",
    "        >>> new_data = {\"name\": \"Lakshman\", \"age\": 28}\n",
    "        >>> add_to_json(\"data.json\", new_data)\n",
    "    \"\"\"\n",
    "    # Read JSON data from the file\n",
    "    with open(filename, 'r') as json_file:\n",
    "        data = json.load(json_file)\n",
    "\n",
    "    # Add the new dictionary to the JSON data\n",
    "    data.append(new_data)\n",
    "\n",
    "    # Write the updated data back to the same file\n",
    "    with open(filename, 'w') as json_file:\n",
    "        json.dump(data, json_file, indent=4)\n",
    "\n",
    "if __name__ == \"__main__\":\n",
    "    new_data = {\"name\": \"Lakshman\", \"age\": 28}\n",
    "    add_to_json(\"data.json\", new_data)\n"
   ]
  },
  {
   "cell_type": "markdown",
   "id": "a2859eb2",
   "metadata": {},
   "source": [
    "# Object Oriented Programming"
   ]
  },
  {
   "cell_type": "markdown",
   "id": "b9e64439",
   "metadata": {},
   "source": [
    "## This python class represents a University and its departments \n",
    "The university should have attributes like name, location, and a list of departments. Implement encapsulation to protect the internal data of the University class. Create a Department class that inherits from the University class. The Department class should have attributes like department name, head of the department, and a list of courses offered. Implement polymorphism by defining a common method for both the University and Department classes to display their details."
   ]
  },
  {
   "cell_type": "code",
   "execution_count": 22,
   "id": "07565449",
   "metadata": {},
   "outputs": [
    {
     "name": "stdout",
     "output_type": "stream",
     "text": [
      "University Name: Kathmandu University\n",
      "Location: Dhulikhel\n",
      "Departments:\n",
      "  - Computer Science\n",
      "  - Electrical Engineering\n",
      "\n",
      "\n",
      "University Name: DoCSE\n",
      "Location: Dhulikhel\n",
      "Departments:\n",
      "Department Name: Computer Science\n",
      "Head of the Department: Prof. X\n",
      "Courses Offered:\n",
      "  - Introduction to Programming\n",
      "  - Data Structures and Algorithms\n",
      "\n",
      "\n",
      "University Name: DoEE\n",
      "Location: Dhulikhel\n",
      "Departments:\n",
      "Department Name: Electrical Engineering\n",
      "Head of the Department: Prof. Y\n",
      "Courses Offered:\n",
      "  - Electronics and Circuits\n",
      "  - Power Systems\n"
     ]
    }
   ],
   "source": [
    "class University:\n",
    "    def __init__(self, name: str, location: str) -> None:\n",
    "        \"\"\"\n",
    "        Initialize the University object with name, location, and an empty list of departments.\n",
    "\n",
    "        Args:\n",
    "            name (str): The name of the university.\n",
    "            location (str): The location of the university.\n",
    "\n",
    "        Returns:\n",
    "            None\n",
    "        \"\"\"\n",
    "        self._name = name\n",
    "        self._location = location\n",
    "        self._departments: List[Department] = []\n",
    "\n",
    "    def add_department(self, department: 'Department') -> None:\n",
    "        \"\"\"\n",
    "        Add a new department to the university.\n",
    "\n",
    "        Args:\n",
    "            department (Department): The department object to be added.\n",
    "\n",
    "        Returns:\n",
    "            None\n",
    "        \"\"\"\n",
    "        self._departments.append(department)\n",
    "\n",
    "    def display_details(self) -> None:\n",
    "        \"\"\"\n",
    "        Display the details of the university and its departments.\n",
    "\n",
    "        Returns:\n",
    "            None\n",
    "        \"\"\"\n",
    "        print(f\"University Name: {self._name}\")\n",
    "        print(f\"Location: {self._location}\")\n",
    "        print(\"Departments:\")\n",
    "        for department in self._departments:\n",
    "            print(f\"  - {department.get_name()}\")\n",
    "\n",
    "\n",
    "class Department(University):\n",
    "    def __init__(self, name: str, location: str, department_name: str, hod: str) -> None:\n",
    "        \"\"\"\n",
    "        Initialize the Department object with name, location, department name, head of the department, and an empty list\n",
    "        of courses offered.\n",
    "\n",
    "        Args:\n",
    "            name (str): The name of the university.\n",
    "            location (str): The location of the university.\n",
    "            department_name (str): The name of the department.\n",
    "            hod (str): The head of the department.\n",
    "\n",
    "        Returns:\n",
    "            None\n",
    "        \"\"\"\n",
    "        super().__init__(name, location)\n",
    "        self._department_name = department_name\n",
    "        self._hod = hod\n",
    "        self._courses_offered: list[str] = []\n",
    "\n",
    "    def add_course(self, course: str) -> None:\n",
    "        \"\"\"\n",
    "        Add a new course to the department.\n",
    "\n",
    "        Args:\n",
    "            course (str): The name of the course to be added.\n",
    "\n",
    "        Returns:\n",
    "            None\n",
    "        \"\"\"\n",
    "        self._courses_offered.append(course)\n",
    "\n",
    "    def get_name(self) -> str:\n",
    "        \"\"\"\n",
    "        Get the name of the department.\n",
    "\n",
    "        Returns:\n",
    "            str: The name of the department.\n",
    "        \"\"\"\n",
    "        return self._department_name\n",
    "\n",
    "    def display_details(self) -> None:\n",
    "        \"\"\"\n",
    "        Display the details of the department, including the university details.\n",
    "\n",
    "        Returns:\n",
    "            None\n",
    "        \"\"\"\n",
    "        super().display_details()\n",
    "        print(f\"Department Name: {self._department_name}\")\n",
    "        print(f\"Head of the Department: {self._hod}\")\n",
    "        print(\"Courses Offered:\")\n",
    "        for course in self._courses_offered:\n",
    "            print(f\"  - {course}\")\n",
    "\n",
    "\n",
    "\n",
    "\n",
    "# Testing the classes\n",
    "if __name__ == \"__main__\":\n",
    "    # Create a University\n",
    "    university = University(\"Kathmandu University\", \"Dhulikhel\")\n",
    "\n",
    "    # Create departments\n",
    "    department1 = Department(\"DoCSE\", \"Dhulikhel\", \"Computer Science\", \"Prof. X\")\n",
    "    department2 = Department(\"DoEE\", \"Dhulikhel\", \"Electrical Engineering\", \"Prof. Y\")\n",
    "\n",
    "    # Add courses to departments\n",
    "    department1.add_course(\"Introduction to Programming\")\n",
    "    department1.add_course(\"Data Structures and Algorithms\")\n",
    "    department2.add_course(\"Electronics and Circuits\")\n",
    "    department2.add_course(\"Power Systems\")\n",
    "\n",
    "    # Add departments to the university\n",
    "    university.add_department(department1)\n",
    "    university.add_department(department2)\n",
    "\n",
    "    # Display university and department details\n",
    "    university.display_details()\n",
    "    print(\"\\n\")\n",
    "    department1.display_details()\n",
    "    print(\"\\n\")\n",
    "    department2.display_details()\n"
   ]
  },
  {
   "cell_type": "markdown",
   "id": "43212ff8",
   "metadata": {},
   "source": [
    "## This python class represents a simple banking system. \n",
    "It creates a class for a BankAccount, and another for Customer. The BankAccount class has a constructor to initialize the account details (account number, balance, account type). The Customer also has a constructor to set the customer's details (name, age, address) and create a BankAccount object for each customer. Then a destructor is implemented for both classes to display a message when objects are destroyed."
   ]
  },
  {
   "cell_type": "code",
   "execution_count": 27,
   "id": "a747b40c",
   "metadata": {},
   "outputs": [
    {
     "name": "stdout",
     "output_type": "stream",
     "text": [
      "Customer object for Ram Prasad is destroyed.\n",
      "BankAccount object with account number 123456789 is destroyed.\n",
      "Customer object for Hari Kumar is destroyed.\n",
      "BankAccount object with account number 987654321 is destroyed.\n"
     ]
    }
   ],
   "source": [
    "class BankAccount:\n",
    "    def __init__(self, account_number: str, balance: float, account_type: str) -> None:\n",
    "        \"\"\"\n",
    "        Initialize a BankAccount object with account details.\n",
    "\n",
    "        Args:\n",
    "            account_number (str): The account number.\n",
    "            balance (float): The account balance.\n",
    "            account_type (str): The type of the account.\n",
    "\n",
    "        Returns:\n",
    "            None\n",
    "        \"\"\"\n",
    "        self.account_number = account_number\n",
    "        self.balance = balance\n",
    "        self.account_type = account_type\n",
    "\n",
    "    def __del__(self) -> None:\n",
    "        \"\"\"\n",
    "        Destructor for BankAccount class.\n",
    "\n",
    "        Returns:\n",
    "            None\n",
    "        \"\"\"\n",
    "        print(f\"BankAccount object with account number {self.account_number} is destroyed.\")\n",
    "\n",
    "\n",
    "class Customer:\n",
    "    def __init__(self, name: str, age: int, address: str) -> None:\n",
    "        \"\"\"\n",
    "        Initialize a Customer object with customer details.\n",
    "\n",
    "        Args:\n",
    "            name (str): The name of the customer.\n",
    "            age (int): The age of the customer.\n",
    "            address (str): The address of the customer.\n",
    "\n",
    "        Returns:\n",
    "            None\n",
    "        \"\"\"\n",
    "        self.name = name\n",
    "        self.age = age\n",
    "        self.address = address\n",
    "        self.bank_account = None\n",
    "\n",
    "    def create_bank_account(self, account_number: str, balance: float, account_type: str) -> None:\n",
    "        \"\"\"\n",
    "        Create a BankAccount object for the customer.\n",
    "\n",
    "        Args:\n",
    "            account_number (str): The account number.\n",
    "            balance (float): The account balance.\n",
    "            account_type (str): The type of the account.\n",
    "\n",
    "        Returns:\n",
    "            None\n",
    "        \"\"\"\n",
    "        self.bank_account = BankAccount(account_number, balance, account_type)\n",
    "\n",
    "    def __del__(self) -> None:\n",
    "        \"\"\"\n",
    "        Destructor for Customer class.\n",
    "\n",
    "        Returns:\n",
    "            None\n",
    "        \"\"\"\n",
    "        print(f\"Customer object for {self.name} is destroyed.\")\n",
    "\n",
    "\n",
    "if __name__ == \"__main__\":\n",
    "    # Create a Customer object\n",
    "    customer1 = Customer(\"Ram Prasad\", 30, \"Dhulikhel\")\n",
    "    customer1.create_bank_account(\"123456789\", 1000.0, \"Savings\")\n",
    "\n",
    "    # Create another Customer object\n",
    "    customer2 = Customer(\"Hari Kumar\", 25, \"Kathmandu\")\n",
    "    customer2.create_bank_account(\"987654321\", 2000.0, \"Checking\")\n",
    "    \n",
    "    # Explicitly delete the objects to trigger the destructors\n",
    "    del customer1\n",
    "    del customer2\n",
    "\n",
    "    # Output: BankAccount object with account number 123456789 is destroyed.\n",
    "    #         Customer object for John Doe is destroyed.\n",
    "    #         BankAccount object with account number 987654321 is destroyed.\n",
    "    #         Customer object for Jane Smith is destroyed.\n"
   ]
  },
  {
   "cell_type": "markdown",
   "id": "eff697ef",
   "metadata": {},
   "source": [
    "# Test Cases"
   ]
  },
  {
   "cell_type": "code",
   "execution_count": 21,
   "id": "1abc8010",
   "metadata": {},
   "outputs": [
    {
     "name": "stdout",
     "output_type": "stream",
     "text": [
      "All test cases passed!\n"
     ]
    }
   ],
   "source": [
    "def test_sum_numbers():\n",
    "    # Test case 1: Basic sum with integers\n",
    "    assert sum_numbers(1, 2, 3) == 6\n",
    "\n",
    "    # Test case 2: Sum with floats\n",
    "    assert sum_numbers(1.5, 2.5, 3.5) == 7.5\n",
    "\n",
    "    # Test case 3: Sum with a mix of integers and floats\n",
    "    assert sum_numbers(10, 20.5, 30, 40.5, 50) == 151.0\n",
    "\n",
    "    # Test case 4: Sum with negative numbers\n",
    "    assert sum_numbers(-1, -2, -3) == -6\n",
    "\n",
    "    # Test case 5: Sum with a single number\n",
    "    assert sum_numbers(100) == 100\n",
    "\n",
    "    # Test case 6: Sum with an empty list of arguments\n",
    "    assert sum_numbers() == 0\n",
    "\n",
    "    # Test case 7: Sum with only float arguments\n",
    "    assert sum_numbers(1.1, 2.2, 3.3) == 6.6\n",
    "\n",
    "    # Test case 8: Sum with no arguments (should raise TypeError)\n",
    "    assert sum_numbers() == 0\n",
    "\n",
    "\n",
    "if __name__ == \"__main__\":\n",
    "    test_sum_numbers()\n",
    "    print(\"All test cases passed!\")\n"
   ]
  },
  {
   "cell_type": "code",
   "execution_count": 12,
   "id": "7271e34e",
   "metadata": {},
   "outputs": [
    {
     "name": "stdout",
     "output_type": "stream",
     "text": [
      "All test cases passed!\n"
     ]
    }
   ],
   "source": [
    "def test_concat_strings():\n",
    "    # Test case 1: Basic concatenation\n",
    "    result1 = concat_strings(\"Hello\", \" \", \"World\")\n",
    "    assert result1 == \"Hello World\"\n",
    "\n",
    "    # Test case 2: Concatenation with different strings\n",
    "    result2 = concat_strings(\"Python\", \" \", \"is\", \" \", \"awesome!\")\n",
    "    assert result2 == \"Python is awesome!\"\n",
    "\n",
    "    # Test case 3: Concatenation with a mix of words\n",
    "    result3 = concat_strings(\"I\", \" \", \"love\", \" \", \"Python\", \" \", \"programming.\")\n",
    "    assert result3 == \"I love Python programming.\"\n",
    "\n",
    "    # Test case 4: Concatenation with an empty string\n",
    "    result4 = concat_strings(\"Hello\", \"\", \"World\")\n",
    "    assert result4 == \"HelloWorld\"\n",
    "\n",
    "    # Test case 5: Concatenation with no arguments\n",
    "    result5 = concat_strings()\n",
    "    assert result5 == \"\"\n",
    "\n",
    "    # Test case 6: Concatenation with numbers (should raise TypeError)\n",
    "    try:\n",
    "        result6 = concat_strings(\"Python\", \" \", 3.7)\n",
    "    except TypeError:\n",
    "        assert True\n",
    "    else:\n",
    "        assert False, \"Expected TypeError but got no exception\"\n",
    "\n",
    "\n",
    "if __name__ == \"__main__\":\n",
    "    test_concat_strings()\n",
    "    print(\"All test cases passed!\")"
   ]
  },
  {
   "cell_type": "code",
   "execution_count": null,
   "id": "58827050",
   "metadata": {},
   "outputs": [],
   "source": [
    "def test_calculate_total_cost():\n",
    "    # Test case 1: Calculate total cost for multiple items\n",
    "    items1 = {\"apple\": 0.5, \"banana\": 0.3, \"orange\": 0.4}\n",
    "    assert calculate_total_cost(**items1) == 1.2\n",
    "\n",
    "    # Test case 2: Calculate total cost for different items\n",
    "    items2 = {\"laptop\": 1000, \"mouse\": 20, \"keyboard\": 50, \"monitor\": 200}\n",
    "    assert calculate_total_cost(**items2) == 1270.0\n",
    "\n",
    "    # Test case 3: Calculate total cost for no items\n",
    "    items3 = {}\n",
    "    assert calculate_total_cost(**items3) == 0.0\n",
    "\n",
    "    # Test case 4: Calculate total cost for items with zero price\n",
    "    items4 = {\"pen\": 0, \"pencil\": 0, \"eraser\": 0}\n",
    "    assert calculate_total_cost(**items4) == 0.0\n",
    "\n",
    "    # Test case 5: Calculate total cost for items with negative price\n",
    "    items5 = {\"shirt\": -20, \"shoes\": -30, \"hat\": -10}\n",
    "    assert calculate_total_cost(**items5) == -60.0\n",
    "\n",
    "    print(\"All test cases passed!\")\n",
    "\n",
    "\n",
    "if __name__ == \"__main__\":\n",
    "    test_calculate_total_cost()\n"
   ]
  },
  {
   "cell_type": "code",
   "execution_count": 11,
   "id": "93455d2b",
   "metadata": {},
   "outputs": [
    {
     "name": "stdout",
     "output_type": "stream",
     "text": [
      "All test cases passed!\n"
     ]
    }
   ],
   "source": [
    "def test_convert_to_uppercase():\n",
    "    # Test case 1: Basic conversion\n",
    "    input_list1 = ['hello', 'world', 'python']\n",
    "    assert convert_to_uppercase(input_list1) == ['HELLO', 'WORLD', 'PYTHON']\n",
    "\n",
    "    # Test case 2: Conversion with different strings\n",
    "    input_list2 = ['apple', 'banana', 'orange']\n",
    "    assert convert_to_uppercase(input_list2) == ['APPLE', 'BANANA', 'ORANGE']\n",
    "\n",
    "    # Test case 3: Conversion with empty strings\n",
    "    input_list3 = ['hello', '', 'world']\n",
    "    assert convert_to_uppercase(input_list3) == ['HELLO', '', 'WORLD']\n",
    "\n",
    "    # Test case 4: Conversion with numbers (should raise AttributeError)\n",
    "    try:\n",
    "        input_list4 = ['hello', 123, 'world']\n",
    "        result4 = convert_to_uppercase(input_list4)\n",
    "    except (AttributeError, TypeError):\n",
    "        assert True\n",
    "    else:\n",
    "        assert False, \"Expected AttributeError but got no exception\"\n",
    "\n",
    "\n",
    "if __name__ == \"__main__\":\n",
    "    test_convert_to_uppercase()\n",
    "    print(\"All test cases passed!\")"
   ]
  },
  {
   "cell_type": "code",
   "execution_count": 30,
   "id": "0d43ad76",
   "metadata": {},
   "outputs": [
    {
     "name": "stdout",
     "output_type": "stream",
     "text": [
      "All test cases passed!\n"
     ]
    }
   ],
   "source": [
    "def test_filter_long_strings():\n",
    "    # Test case 1: Filter long strings from the input list\n",
    "    input_list1 = ['apple', 'banana', 'orange', 'grapes', 'kiwi', 'pear']\n",
    "    assert filter_long_strings(input_list1) == ['banana', 'orange', 'grapes']\n",
    "\n",
    "    # Test case 2: Filter long strings with only one matching string\n",
    "    input_list2 = ['python', 'java', 'c', 'c++', 'ruby']\n",
    "    assert filter_long_strings(input_list2) == ['python']\n",
    "\n",
    "    # Test case 3: No strings with more than 5 characters\n",
    "    input_list3 = ['a', 'b', 'c', 'd', 'e']\n",
    "    assert filter_long_strings(input_list3) == []\n",
    "\n",
    "    # Test case 4: Empty input list\n",
    "    input_list4 = []\n",
    "    assert filter_long_strings(input_list4) == []\n",
    "\n",
    "    # Test case 5: All strings with more than 5 characters\n",
    "    input_list5 = ['abcdef', 'ghijklm', 'nopqrst', 'uvwxyz']\n",
    "    assert filter_long_strings(input_list5) == ['abcdef', 'ghijklm', 'nopqrst', 'uvwxyz']\n",
    "\n",
    "\n",
    "if __name__ == \"__main__\":\n",
    "    test_filter_long_strings()\n",
    "    print(\"All test cases passed!\")"
   ]
  },
  {
   "cell_type": "code",
   "execution_count": 25,
   "id": "17f1fdda",
   "metadata": {},
   "outputs": [
    {
     "name": "stdout",
     "output_type": "stream",
     "text": [
      "All test cases passed!\n"
     ]
    }
   ],
   "source": [
    "def test_calculate_factorial():\n",
    "    # Test case 1: Factorial of 5\n",
    "    assert calculate_factorial(5) == 120\n",
    "\n",
    "    # Test case 2: Factorial of 0\n",
    "    assert calculate_factorial(0) == 1\n",
    "\n",
    "    # Test case 3: Factorial of 10\n",
    "    assert calculate_factorial(10) == 3628800\n",
    "\n",
    "    # Test case 4: Factorial of 1\n",
    "    assert calculate_factorial(1) == 1\n",
    "\n",
    "    # Test case 5: Factorial of a negative number (should raise ValueError)\n",
    "    try:\n",
    "        result5 = calculate_factorial(-5)\n",
    "    except ValueError:\n",
    "        assert True\n",
    "    else:\n",
    "        assert False, \"Expected ValueError but got no exception\"\n",
    "\n",
    "\n",
    "if __name__ == \"__main__\":\n",
    "    test_calculate_factorial()\n",
    "    print(\"All test cases passed!\")\n"
   ]
  },
  {
   "cell_type": "code",
   "execution_count": 36,
   "id": "09c92a1c",
   "metadata": {},
   "outputs": [
    {
     "name": "stdout",
     "output_type": "stream",
     "text": [
      "All test cases passed!\n"
     ]
    }
   ],
   "source": [
    "def test_check_odd_even():\n",
    "    # Test case 1: Even number\n",
    "    assert check_odd_even(10) == 'Even'\n",
    "\n",
    "    # Test case 2: Odd number\n",
    "    assert check_odd_even(7) == 'Odd'\n",
    "\n",
    "    # Test case 3: Zero (Even)\n",
    "    assert check_odd_even(0) == 'Even'\n",
    "\n",
    "    # Test case 4: Negative even number\n",
    "    assert check_odd_even(-4) == 'Even'\n",
    "\n",
    "    # Test case 5: Negative odd number\n",
    "    assert check_odd_even(-9) == 'Odd'\n",
    "\n",
    "    # Test case 6: Large even number\n",
    "    assert check_odd_even(1000000) == 'Even'\n",
    "\n",
    "    # Test case 7: Large odd number\n",
    "    assert check_odd_even(999999) == 'Odd'\n",
    "\n",
    "\n",
    "if __name__ == \"__main__\":\n",
    "    test_check_odd_even()\n",
    "    print(\"All test cases passed!\")\n"
   ]
  },
  {
   "cell_type": "code",
   "execution_count": 61,
   "id": "90c6d72d",
   "metadata": {},
   "outputs": [
    {
     "name": "stdout",
     "output_type": "stream",
     "text": [
      "All test cases passed!\n"
     ]
    }
   ],
   "source": [
    "def test_find_bigger_number():\n",
    "    # Test case 1: Larger number is the first integer\n",
    "    assert find_bigger_number(5, 10, 7) == 10\n",
    "\n",
    "    # Test case 2: All numbers are equal\n",
    "    assert find_bigger_number(3, 3, 3) == 'Equal'\n",
    "\n",
    "    # Test case 3: Larger number is the second integer\n",
    "    assert find_bigger_number(-2, -5, -1) == -1\n",
    "\n",
    "    # Test case 4: Larger number is the third integer\n",
    "    assert find_bigger_number(100, 200, 300) == 300\n",
    "\n",
    "    # Test case 5: Two numbers are equal, larger number is the third integer\n",
    "    assert find_bigger_number(10, 20, 20) == 20\n",
    "\n",
    "    # Test case 6: Two numbers are equal, larger number is the first integer\n",
    "    assert find_bigger_number(25, 25, 10) == 25\n",
    "\n",
    "    # Test case 7: Two numbers are equal, larger number is the second integer\n",
    "    assert find_bigger_number(30, 15, 30) == 30\n",
    "\n",
    "\n",
    "if __name__ == \"__main__\":\n",
    "    test_find_bigger_number()\n",
    "    print(\"All test cases passed!\")\n"
   ]
  },
  {
   "cell_type": "code",
   "execution_count": 67,
   "id": "898ea5d3",
   "metadata": {},
   "outputs": [
    {
     "name": "stdout",
     "output_type": "stream",
     "text": [
      "All test cases passed!\n"
     ]
    }
   ],
   "source": [
    "def test_check_prime():\n",
    "    # Test case 1: Prime number (5)\n",
    "    assert check_prime(5) == 'Prime'\n",
    "\n",
    "    # Test case 2: Not Prime (10)\n",
    "    assert check_prime(10) == 'Not Prime'\n",
    "\n",
    "    # Test case 3: Prime number (17)\n",
    "    assert check_prime(17) == 'Prime'\n",
    "\n",
    "    # Test case 4: Not Prime (1)\n",
    "    assert check_prime(1) == 'Not Prime'\n",
    "\n",
    "    # Test case 5: Prime number (2)\n",
    "    assert check_prime(2) == 'Prime'\n",
    "\n",
    "    # Test case 6: Not Prime (0)\n",
    "    assert check_prime(0) == 'Not Prime'\n",
    "\n",
    "    # Test case 7: Not Prime (Negative number)\n",
    "    assert check_prime(-7) == 'Not Prime'\n",
    "\n",
    "    # Test case 8: Prime number (Large prime)\n",
    "    assert check_prime(997) == 'Prime'\n",
    "\n",
    "    # Test case 9: Not Prime (Large non-prime)\n",
    "    assert check_prime(1000) == 'Not Prime'\n",
    "\n",
    "\n",
    "if __name__ == \"__main__\":\n",
    "    test_check_prime()\n",
    "    print(\"All test cases passed!\")\n"
   ]
  },
  {
   "cell_type": "code",
   "execution_count": 72,
   "id": "debd4185",
   "metadata": {},
   "outputs": [
    {
     "name": "stdout",
     "output_type": "stream",
     "text": [
      "[['eat', 'tea', 'ate'], ['tan', 'nat'], ['bat']]\n"
     ]
    }
   ],
   "source": [
    "if __name__ == \"__main__\":\n",
    "    strs = [\"eat\", \"tea\", \"tan\", \"ate\", \"nat\", \"bat\"]\n",
    "    result = group_anagrams(strs)\n",
    "    print(result)"
   ]
  },
  {
   "cell_type": "code",
   "execution_count": 74,
   "id": "faf15571",
   "metadata": {},
   "outputs": [
    {
     "name": "stdout",
     "output_type": "stream",
     "text": [
      "All test cases passed!\n"
     ]
    }
   ],
   "source": [
    "def test_filter_long_strings():\n",
    "    # Test case 1: Filter long strings from the input list\n",
    "    input_list1 = ['apple', 'banana', 'orange', 'grapes', 'kiwi', 'pear']\n",
    "    assert filter_long_strings(input_list1) == ['banana', 'orange', 'grapes']\n",
    "\n",
    "    # Test case 2: Filter long strings with only one matching string\n",
    "    input_list2 = ['python', 'java', 'c', 'c++', 'ruby']\n",
    "    assert filter_long_strings(input_list2) == ['python']\n",
    "\n",
    "    # Test case 3: No strings with more than 5 characters\n",
    "    input_list3 = ['a', 'b', 'c', 'd', 'e']\n",
    "    assert filter_long_strings(input_list3) == []\n",
    "\n",
    "    # Test case 4: Empty input list\n",
    "    input_list4 = []\n",
    "    assert filter_long_strings(input_list4) == []\n",
    "\n",
    "    # Test case 5: All strings with more than 5 characters\n",
    "    input_list5 = ['abcdef', 'ghijklm', 'nopqrst', 'uvwxyz']\n",
    "    assert filter_long_strings(input_list5) == ['abcdef', 'ghijklm', 'nopqrst', 'uvwxyz']\n",
    "\n",
    "\n",
    "if __name__ == \"__main__\":\n",
    "    test_filter_long_strings()\n",
    "    print(\"All test cases passed!\")\n"
   ]
  },
  {
   "cell_type": "code",
   "execution_count": 80,
   "id": "8f584864",
   "metadata": {},
   "outputs": [
    {
     "name": "stdout",
     "output_type": "stream",
     "text": [
      "All test cases passed!\n"
     ]
    }
   ],
   "source": [
    "def test_elementwise_product():\n",
    "    # Test case 1: Normal case with positive integers\n",
    "    assert elementwise_product([1, 2, 3], [10, 20, 30]) == [10, 40, 90]\n",
    "\n",
    "    # Test case 2: Normal case with negative integers\n",
    "    assert elementwise_product([-2, 4, -6], [3, -3, 3]) == [-6, -12, -18]\n",
    "\n",
    "    # Test case 3: One empty list (should return an empty list)\n",
    "    assert elementwise_product([1, 2, 3], []) == []\n",
    "\n",
    "    # Test case 4: Lists with different lengths (should truncate to the smaller length)\n",
    "    assert elementwise_product([1, 2, 3], [10, 20, 30, 40]) == [10, 40, 90]\n",
    "\n",
    "    # Test case 5: Lists with one element each\n",
    "    assert elementwise_product([5], [10]) == [50]\n",
    "\n",
    "    # Test case 6: Lists with all elements as 0 (should return a list with 0s)\n",
    "    assert elementwise_product([0, 0, 0], [0, 0, 0]) == [0, 0, 0]\n",
    "\n",
    "    # Test case 7: Lists with float numbers\n",
    "    assert elementwise_product([1.5, 2.5, 3.5], [2, 3, 4]) == [3.0, 7.5, 14.0]\n",
    "\n",
    "    # Test case 8: Lists with negative float numbers\n",
    "    assert elementwise_product([-1.5, -2.5, -3.5], [-2, -3, -4]) == [3.0, 7.5, 14.0]\n",
    "\n",
    "    # Test case 9: Lists with zero and positive numbers\n",
    "    assert elementwise_product([0, 5, 0], [1, 0, 2]) == [0, 0, 0]\n",
    "\n",
    "    # Test case 10: Lists with zero and negative numbers\n",
    "    assert elementwise_product([0, -5, 0], [1, 0, -2]) == [0, 0, 0]\n",
    "\n",
    "\n",
    "if __name__ == \"__main__\":\n",
    "    test_elementwise_product()\n",
    "    print(\"All test cases passed!\")\n"
   ]
  },
  {
   "cell_type": "code",
   "execution_count": 83,
   "id": "ad879135",
   "metadata": {},
   "outputs": [
    {
     "name": "stdout",
     "output_type": "stream",
     "text": [
      "All test cases passed!\n"
     ]
    }
   ],
   "source": [
    "def test_create_dictionary():\n",
    "    # Test case 1: Normal case with strings and integers\n",
    "    keys_list1 = ['a', 'b', 'c']\n",
    "    values_list1 = [1, 2, 3]\n",
    "    assert create_dictionary(keys_list1, values_list1) == {'a': 1, 'b': 2, 'c': 3}\n",
    "\n",
    "    # Test case 2: Normal case with strings and floats\n",
    "    keys_list2 = ['x', 'y', 'z']\n",
    "    values_list2 = [10.0, 20.5, 30.75]\n",
    "    assert create_dictionary(keys_list2, values_list2) == {'x': 10.0, 'y': 20.5, 'z': 30.75}\n",
    "\n",
    "    # Test case 3: Normal case with different data types\n",
    "    keys_list3 = [1, 'two', 3.14, True]\n",
    "    values_list3 = [100, 'hello', None, False]\n",
    "    assert create_dictionary(keys_list3, values_list3) == {1: 100, 'two': 'hello', 3.14: None, True: False}\n",
    "\n",
    "    # Test case 4: Empty lists (should return an empty dictionary)\n",
    "    keys_list4 = []\n",
    "    values_list4 = []\n",
    "    assert create_dictionary(keys_list4, values_list4) == {}\n",
    "\n",
    "    # Test case 5: Lists with different lengths (should truncate to the smaller length)\n",
    "    keys_list5 = ['a', 'b', 'c']\n",
    "    values_list5 = [1, 2]\n",
    "    assert create_dictionary(keys_list5, values_list5) == {'a': 1, 'b': 2}\n",
    "\n",
    "    # Test case 6: Lists with one element each\n",
    "    keys_list6 = ['x']\n",
    "    values_list6 = [10]\n",
    "    assert create_dictionary(keys_list6, values_list6) == {'x': 10}\n",
    "\n",
    "\n",
    "if __name__ == \"__main__\":\n",
    "    test_create_dictionary()\n",
    "    print(\"All test cases passed!\")\n"
   ]
  },
  {
   "cell_type": "code",
   "execution_count": 86,
   "id": "b956bf01",
   "metadata": {},
   "outputs": [
    {
     "name": "stdout",
     "output_type": "stream",
     "text": [
      "All test cases passed!\n"
     ]
    }
   ],
   "source": [
    "def test_filter_students_above_80():\n",
    "    # Test case 1: Normal case with students above and below 80\n",
    "    scores1 = {'Alice': 85, 'Bob': 70, 'Charlie': 90, 'David': 75}\n",
    "    assert filter_students_above_80(scores1) == {'Alice': 85, 'Charlie': 90}\n",
    "\n",
    "    # Test case 2: Normal case with all students above 80\n",
    "    scores2 = {'John': 95, 'Emma': 100, 'Michael': 88, 'Sophia': 92}\n",
    "    assert filter_students_above_80(scores2) == {'John': 95, 'Emma': 100, 'Michael': 88, 'Sophia': 92}\n",
    "\n",
    "    # Test case 3: Normal case with all students below 80 (should return an empty dictionary)\n",
    "    scores3 = {'Mary': 78, 'William': 79, 'Olivia': 76, 'James': 77}\n",
    "    assert filter_students_above_80(scores3) == {}\n",
    "\n",
    "    # Test case 4: Empty dictionary (should return an empty dictionary)\n",
    "    scores4 = {}\n",
    "    assert filter_students_above_80(scores4) == {}\n",
    "\n",
    "    # Test case 5: One student above 80\n",
    "    scores5 = {'Ethan': 95}\n",
    "    assert filter_students_above_80(scores5) == {'Ethan': 95}\n",
    "\n",
    "\n",
    "if __name__ == \"__main__\":\n",
    "    test_filter_students_above_80()\n",
    "    print(\"All test cases passed!\")\n"
   ]
  },
  {
   "cell_type": "code",
   "execution_count": 89,
   "id": "a0b2975e",
   "metadata": {},
   "outputs": [
    {
     "name": "stdout",
     "output_type": "stream",
     "text": [
      "All test cases passed!\n"
     ]
    }
   ],
   "source": [
    "def test_unique_even_numbers():\n",
    "    # Test case 1: Normal case with mixed numbers\n",
    "    numbers1 = [1, 2, 3, 4, 5, 6, 7, 8, 9]\n",
    "    assert unique_even_numbers(numbers1) == {2, 4, 6, 8}\n",
    "\n",
    "    # Test case 2: Normal case with all even numbers\n",
    "    numbers2 = [10, 12, 14, 16, 18, 20]\n",
    "    assert unique_even_numbers(numbers2) == {10, 12, 14, 16, 18, 20}\n",
    "\n",
    "    # Test case 3: Normal case with all odd numbers (should return an empty set)\n",
    "    numbers3 = [1, 3, 5, 7, 9]\n",
    "    assert unique_even_numbers(numbers3) == set()\n",
    "\n",
    "    # Test case 4: Empty list (should return an empty set)\n",
    "    numbers4 = []\n",
    "    assert unique_even_numbers(numbers4) == set()\n",
    "\n",
    "    # Test case 5: List with negative numbers\n",
    "    numbers5 = [-2, 0, 2, 4, -6, -8]\n",
    "    assert unique_even_numbers(numbers5) == {-8, -6, -2, 0, 2, 4}\n",
    "\n",
    "    # Test case 6: List with floating-point numbers (should ignore the non-integer elements)\n",
    "    numbers6 = [2.5, 3.5, 4.0, 5.5, 6.0]\n",
    "    assert unique_even_numbers(numbers6) == {4.0, 6.0}\n",
    "\n",
    "    # Test case 7: List with duplicate even numbers\n",
    "    numbers7 = [2, 4, 6, 2, 4, 8, 6, 10]\n",
    "    assert unique_even_numbers(numbers7) == {2, 4, 6, 8, 10}\n",
    "\n",
    "\n",
    "if __name__ == \"__main__\":\n",
    "    test_unique_even_numbers()\n",
    "    print(\"All test cases passed!\")\n"
   ]
  },
  {
   "cell_type": "code",
   "execution_count": 92,
   "id": "49fcd8bb",
   "metadata": {},
   "outputs": [
    {
     "name": "stdout",
     "output_type": "stream",
     "text": [
      "All test cases passed!\n"
     ]
    }
   ],
   "source": [
    "def test_unique_characters_in_words():\n",
    "    # Test case 1: Normal case with mixed words\n",
    "    words1 = ['hello', 'world', 'python']\n",
    "    assert unique_characters_in_words(words1) == {'d', 'h', 'e', 'n', 'l', 'o', 'p', 'r', 't', 'w', 'y'}\n",
    "\n",
    "    # Test case 2: Normal case with words of different lengths\n",
    "    words2 = ['apple', 'banana', 'orange']\n",
    "    assert unique_characters_in_words(words2) == {'a', 'b', 'n', 'e', 'l', 'p', 'r', 'g', 'o'}\n",
    "\n",
    "    # Test case 3: Empty list (should return an empty set)\n",
    "    words3 = []\n",
    "    assert unique_characters_in_words(words3) == set()\n",
    "\n",
    "    # Test case 4: List with duplicate characters\n",
    "    words4 = ['programming', 'language', 'python', 'java']\n",
    "    assert unique_characters_in_words(words4) == {'p', 'r', 'o', 'g', 'a', 'm', 'i', 'n', 'l', 'u', 'e', 'h', 't', 'y', 'j', 'v'}\n",
    "\n",
    "    # Test case 5: List with one word (should return unique characters of that word)\n",
    "    words5 = ['hello']\n",
    "    assert unique_characters_in_words(words5) == {'h', 'e', 'l', 'o'}\n",
    "\n",
    "    # Test case 6: List with special characters\n",
    "    words6 = ['@python', 'javascript', '$python']\n",
    "    assert unique_characters_in_words(words6) == {'@', 'p', 'y', 't', 'h', 'o', 'n', 'j', 'a', 'v', 's', 'c', 'r', 'i', 'p', '$'}\n",
    "\n",
    "\n",
    "if __name__ == \"__main__\":\n",
    "    test_unique_characters_in_words()\n",
    "    print(\"All test cases passed!\")\n"
   ]
  },
  {
   "cell_type": "code",
   "execution_count": null,
   "id": "1dafa2ab",
   "metadata": {},
   "outputs": [],
   "source": []
  }
 ],
 "metadata": {
  "hide_input": false,
  "kernelspec": {
   "display_name": "Python 3",
   "language": "python",
   "name": "python3"
  },
  "language_info": {
   "codemirror_mode": {
    "name": "ipython",
    "version": 3
   },
   "file_extension": ".py",
   "mimetype": "text/x-python",
   "name": "python",
   "nbconvert_exporter": "python",
   "pygments_lexer": "ipython3",
   "version": "3.10.5"
  },
  "toc": {
   "base_numbering": 1,
   "nav_menu": {},
   "number_sections": true,
   "sideBar": true,
   "skip_h1_title": false,
   "title_cell": "Table of Contents",
   "title_sidebar": "Contents",
   "toc_cell": false,
   "toc_position": {},
   "toc_section_display": true,
   "toc_window_display": false
  }
 },
 "nbformat": 4,
 "nbformat_minor": 5
}
